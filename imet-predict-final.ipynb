{
 "cells": [
  {
   "cell_type": "code",
   "execution_count": 1,
   "metadata": {
    "_cell_guid": "b1076dfc-b9ad-4769-8c92-a6c4dae69d19",
    "_uuid": "8f2839f25d086af736a60e9eeb907d3b93b6e0e5"
   },
   "outputs": [
    {
     "name": "stdout",
     "output_type": "stream",
     "text": [
      "['06-01-results', '05-28-results', '06-02-results', 'imet-2019-fgvc6', '05-30-results']\n"
     ]
    }
   ],
   "source": [
    "# This Python 3 environment comes with many helpful analytics libraries installed\n",
    "# It is defined by the kaggle/python docker image: https://github.com/kaggle/docker-python\n",
    "# For example, here's several helpful packages to load in \n",
    "import glob\n",
    "import numpy as np # linear algebra\n",
    "import pandas as pd # data processing, CSV file I/O (e.g. pd.read_csv)\n",
    "\n",
    "# Input data files are available in the \"../input/\" directory.\n",
    "# For example, running this (by clicking run or pressing Shift+Enter) will list the files in the input directory\n",
    "\n",
    "import os\n",
    "print(os.listdir(\"../input/\"))\n",
    "\n",
    "# Any results you write to the current directory are saved as output."
   ]
  },
  {
   "cell_type": "code",
   "execution_count": 2,
   "metadata": {},
   "outputs": [],
   "source": [
    "import argparse\n",
    "from itertools import islice\n",
    "import json\n",
    "from pathlib import Path\n",
    "import shutil\n",
    "import warnings\n",
    "from typing import Dict\n",
    "import os\n",
    "import sys\n",
    "from collections import OrderedDict\n",
    "import math\n",
    "import random\n",
    "from typing import Callable, List\n",
    "from datetime import datetime\n",
    "import json\n",
    "import glob\n",
    "from multiprocessing.pool import ThreadPool\n",
    "import gc\n",
    "\n",
    "import torch\n",
    "from torch import nn, cuda\n",
    "from torch.nn import functional as F\n",
    "import torch.utils.model_zoo as model_zoo\n",
    "from torch.utils.data import DataLoader\n",
    "from torch.utils.data import Dataset\n",
    "from torchvision.transforms import (\n",
    "    ToTensor, Normalize, Compose, Resize, CenterCrop, RandomCrop,\n",
    "    RandomHorizontalFlip)\n",
    "\n",
    "from tqdm import tqdm_notebook\n",
    "from PIL import Image\n",
    "import cv2\n",
    "cv2.setNumThreads(0)\n",
    "from pretrainedmodels import *"
   ]
  },
  {
   "cell_type": "code",
   "execution_count": 3,
   "metadata": {},
   "outputs": [],
   "source": [
    "def seed_everything(seed=1234):\n",
    "    random.seed(seed)\n",
    "    os.environ['PYTHONHASHSEED'] = str(seed)\n",
    "    np.random.seed(seed)\n",
    "    torch.manual_seed(seed)\n",
    "    torch.cuda.manual_seed(seed)\n",
    "    torch.backends.cudnn.deterministic = True\n",
    "    \n",
    "seed_everything(7)"
   ]
  },
  {
   "cell_type": "code",
   "execution_count": 4,
   "metadata": {},
   "outputs": [],
   "source": [
    "DATA_ROOT = Path('../input/imet-2019-fgvc6')\n",
    "N_CLASSES = 1103"
   ]
  },
  {
   "cell_type": "code",
   "execution_count": 7,
   "metadata": {
    "_kg_hide-input": true
   },
   "outputs": [],
   "source": [
    "test_transform = Compose([\n",
    "    RandomCrop(320, pad_if_needed=True),\n",
    "    RandomHorizontalFlip(),\n",
    "])\n",
    "\n",
    "\n",
    "tensor_transform = Compose([\n",
    "    ToTensor(),\n",
    "    Normalize(mean=[0.5949, 0.5611, 0.5185], std=[0.2900, 0.2844, 0.2811]),\n",
    "])\n",
    "\n",
    "\n",
    "\n",
    "class TTADataset:\n",
    "    def __init__(self, root: Path, df: pd.DataFrame,\n",
    "                 image_transform: Callable, tta: int):\n",
    "        self._root = root\n",
    "        self._df = df\n",
    "        self._image_transform = image_transform\n",
    "        self._tta = tta\n",
    "\n",
    "    def __len__(self):\n",
    "        return len(self._df) * self._tta\n",
    "\n",
    "    def __getitem__(self, idx):\n",
    "        item = self._df.iloc[idx % len(self._df)]\n",
    "        image = load_transform_image(item, self._root, self._image_transform)\n",
    "        return image, item.id\n",
    "\n",
    "\n",
    "def load_transform_image(\n",
    "        item, root: Path, image_transform: Callable, debug: bool = False):\n",
    "    image = load_image(item, root)\n",
    "    image = image_transform(image)\n",
    "    if debug:\n",
    "        image.save('_debug.png')\n",
    "    return tensor_transform(image)\n",
    "\n",
    "\n",
    "def train_load_transform_image(\n",
    "        item, root: Path, image_transform: Callable, debug: bool = False):\n",
    "    image = load_image(item, root)\n",
    "    image = image_transform(image)\n",
    "    if debug:\n",
    "        image.save('_debug.png')\n",
    "    return train_tensor_transform(image)\n",
    "\n",
    "\n",
    "def load_image(item, root: Path) -> Image.Image:\n",
    "    image = cv2.imread(str(root / f'{item.id}.png'))\n",
    "    image = cv2.cvtColor(image, cv2.COLOR_BGR2RGB)\n",
    "    return Image.fromarray(image)\n",
    "\n",
    "\n",
    "def get_ids(root: Path) -> List[str]:\n",
    "    return sorted({p.name.split('_')[0] for p in root.glob('*.png')})\n",
    "\n",
    "def load_model(model: nn.Module, path: Path) -> Dict:\n",
    "    state = torch.load(str(path))\n",
    "    model.load_state_dict(state['model'])\n",
    "    print('Loaded model from epoch {epoch}, step {step:,}'.format(**state))\n",
    "    return state\n",
    "\n",
    "def mean_df(df: pd.DataFrame) -> pd.DataFrame:\n",
    "    return df.groupby(level=0).mean()\n",
    "\n",
    "def get_classes(item):\n",
    "    return ' '.join(cls for cls, is_present in item.items() if is_present)\n",
    "\n",
    "def binarize_prediction(probabilities, threshold: float, argsorted=None,\n",
    "                        min_labels=1, max_labels=10):\n",
    "    \"\"\" Return matrix of 0/1 predictions, same shape as probabilities.\n",
    "    \"\"\"\n",
    "    assert probabilities.shape[1] == N_CLASSES\n",
    "    if argsorted is None:\n",
    "        argsorted = probabilities.argsort(axis=1)\n",
    "    max_mask = _make_mask(argsorted, max_labels)\n",
    "    min_mask = _make_mask(argsorted, min_labels)\n",
    "    \n",
    "    prob_mask = []\n",
    "    for prob in probabilities:\n",
    "        prob_mask.append(prob > prob.max()/7)\n",
    "        \n",
    "    prob_mask = np.array(prob_mask, dtype=np.int)\n",
    "    \n",
    "    return (max_mask & prob_mask) | min_mask\n",
    "\n",
    "\n",
    "def _make_mask(argsorted, top_n: int):\n",
    "    mask = np.zeros_like(argsorted, dtype=np.uint8)\n",
    "    col_indices = argsorted[:, -top_n:].reshape(-1)\n",
    "    row_indices = [i // top_n for i in range(len(col_indices))]\n",
    "    mask[row_indices, col_indices] = 1\n",
    "    return mask"
   ]
  },
  {
   "cell_type": "code",
   "execution_count": 8,
   "metadata": {},
   "outputs": [],
   "source": [
    "args = {\n",
    "    'batch_size':64,\n",
    "    'tta':2,\n",
    "    'use_cuda':1,\n",
    "    'workers':8,\n",
    "    'threshold':0.1,\n",
    "    'max_labels':10,\n",
    "    'output':'submission.csv',\n",
    "}"
   ]
  },
  {
   "cell_type": "code",
   "execution_count": 9,
   "metadata": {},
   "outputs": [],
   "source": [
    "def create_model(model):\n",
    "    feature_dim = model.last_linear.in_features\n",
    "    class AvgPool(nn.Module):\n",
    "        def forward(self, x):\n",
    "            # print (x.size())\n",
    "            return F.avg_pool2d(x, x.shape[2:])\n",
    "    model.avg_pool = AvgPool()\n",
    "    model.avgpool = AvgPool()\n",
    "    model.last_linear = nn.Linear(feature_dim, N_CLASSES)\n",
    "    model = torch.nn.DataParallel(model)\n",
    "    model = model.cuda()\n",
    "    return model\n",
    "    \n",
    "def test(model, loader, model_path, multi=False, half=False):\n",
    "    load_model(model, model_path / 'best-model.pt')\n",
    "    df = predict(model, loader, use_cuda=args['use_cuda'], half=half)\n",
    "    return df\n",
    "    \n",
    "def predict(model, loader, use_cuda: bool, half=False):\n",
    "    model.eval()\n",
    "    all_outputs, all_ids = [], []\n",
    "    with torch.no_grad():\n",
    "        for inputs, ids in tqdm_notebook(loader):\n",
    "            inputs = inputs.cuda()\n",
    "            outputs = torch.sigmoid(model(inputs))\n",
    "            # outputs = model(inputs)\n",
    "            all_outputs.append(outputs.detach().cpu().numpy())\n",
    "            all_ids.extend(ids)\n",
    "    df = pd.DataFrame(\n",
    "        data=np.concatenate(all_outputs),\n",
    "        index=all_ids,\n",
    "        columns=map(str, range(N_CLASSES)))\n",
    "    df = mean_df(df)\n",
    "    return df"
   ]
  },
  {
   "cell_type": "code",
   "execution_count": 10,
   "metadata": {},
   "outputs": [],
   "source": [
    "import string\n",
    "def randomString2(stringLength=8):\n",
    "    \"\"\"Generate a random string of fixed length \"\"\"\n",
    "    letters= string.ascii_lowercase\n",
    "    return ''.join(random.sample(letters,stringLength))\n",
    "\n",
    "test_root = DATA_ROOT /'test'\n",
    "test_df = pd.read_csv(DATA_ROOT / 'sample_submission.csv')\n",
    "# df = pd.concat([df]*5, ignore_index=True)\n",
    "# df['new_id'] = [randomString2() for i in range(len(df))]\n",
    "loader = DataLoader(\n",
    "        dataset=TTADataset(test_root, test_df, test_transform, tta=args['tta']),\n",
    "        shuffle=False,\n",
    "        batch_size=args['batch_size'],\n",
    "        num_workers=args['workers'],\n",
    "    )"
   ]
  },
  {
   "cell_type": "code",
   "execution_count": 11,
   "metadata": {},
   "outputs": [
    {
     "name": "stdout",
     "output_type": "stream",
     "text": [
      "Loaded model from epoch 12, step 24,420\n"
     ]
    },
    {
     "data": {
      "application/vnd.jupyter.widget-view+json": {
       "model_id": "de53ab967cf04d5abffb0c2c58323609",
       "version_major": 2,
       "version_minor": 0
      },
      "text/plain": [
       "HBox(children=(IntProgress(value=0, max=233), HTML(value='')))"
      ]
     },
     "metadata": {},
     "output_type": "display_data"
    },
    {
     "name": "stdout",
     "output_type": "stream",
     "text": [
      "\n",
      "Loaded model from epoch 17, step 35,520\n"
     ]
    },
    {
     "data": {
      "application/vnd.jupyter.widget-view+json": {
       "model_id": "73da1ce3c2fd4ab8be0f44c411fc1f1b",
       "version_major": 2,
       "version_minor": 0
      },
      "text/plain": [
       "HBox(children=(IntProgress(value=0, max=233), HTML(value='')))"
      ]
     },
     "metadata": {},
     "output_type": "display_data"
    },
    {
     "name": "stdout",
     "output_type": "stream",
     "text": [
      "\n",
      "Loaded model from epoch 18, step 37,723\n"
     ]
    },
    {
     "data": {
      "application/vnd.jupyter.widget-view+json": {
       "model_id": "8a76b5341ee04503a4978b3d151c8b53",
       "version_major": 2,
       "version_minor": 0
      },
      "text/plain": [
       "HBox(children=(IntProgress(value=0, max=233), HTML(value='')))"
      ]
     },
     "metadata": {},
     "output_type": "display_data"
    },
    {
     "name": "stdout",
     "output_type": "stream",
     "text": [
      "\n",
      "Loaded model from epoch 17, step 35,520\n"
     ]
    },
    {
     "data": {
      "application/vnd.jupyter.widget-view+json": {
       "model_id": "8f9a48e993ba400c96d2699b74db76b3",
       "version_major": 2,
       "version_minor": 0
      },
      "text/plain": [
       "HBox(children=(IntProgress(value=0, max=233), HTML(value='')))"
      ]
     },
     "metadata": {},
     "output_type": "display_data"
    },
    {
     "name": "stdout",
     "output_type": "stream",
     "text": [
      "\n",
      "Loaded model from epoch 19, step 39,942\n"
     ]
    },
    {
     "data": {
      "application/vnd.jupyter.widget-view+json": {
       "model_id": "670445fd518c477db06d1a79b31cd086",
       "version_major": 2,
       "version_minor": 0
      },
      "text/plain": [
       "HBox(children=(IntProgress(value=0, max=233), HTML(value='')))"
      ]
     },
     "metadata": {},
     "output_type": "display_data"
    },
    {
     "name": "stdout",
     "output_type": "stream",
     "text": [
      "\n",
      "Loaded model from epoch 19, step 29,970\n"
     ]
    },
    {
     "data": {
      "application/vnd.jupyter.widget-view+json": {
       "model_id": "5002a2275fcd44ff99aff4b59c6114ce",
       "version_major": 2,
       "version_minor": 0
      },
      "text/plain": [
       "HBox(children=(IntProgress(value=0, max=233), HTML(value='')))"
      ]
     },
     "metadata": {},
     "output_type": "display_data"
    },
    {
     "name": "stdout",
     "output_type": "stream",
     "text": [
      "\n",
      "Loaded model from epoch 19, step 29,970\n"
     ]
    },
    {
     "data": {
      "application/vnd.jupyter.widget-view+json": {
       "model_id": "67f90fec0ee341a3a2972e9c976da328",
       "version_major": 2,
       "version_minor": 0
      },
      "text/plain": [
       "HBox(children=(IntProgress(value=0, max=233), HTML(value='')))"
      ]
     },
     "metadata": {},
     "output_type": "display_data"
    },
    {
     "name": "stdout",
     "output_type": "stream",
     "text": [
      "\n",
      "Loaded model from epoch 15, step 23,310\n"
     ]
    },
    {
     "data": {
      "application/vnd.jupyter.widget-view+json": {
       "model_id": "b6ede1286ad7472e80a6d5e3e399363f",
       "version_major": 2,
       "version_minor": 0
      },
      "text/plain": [
       "HBox(children=(IntProgress(value=0, max=233), HTML(value='')))"
      ]
     },
     "metadata": {},
     "output_type": "display_data"
    },
    {
     "name": "stdout",
     "output_type": "stream",
     "text": [
      "\n",
      "Loaded model from epoch 13, step 26,628\n"
     ]
    },
    {
     "data": {
      "application/vnd.jupyter.widget-view+json": {
       "model_id": "f340787dab164f568119205db30e31e6",
       "version_major": 2,
       "version_minor": 0
      },
      "text/plain": [
       "HBox(children=(IntProgress(value=0, max=233), HTML(value='')))"
      ]
     },
     "metadata": {},
     "output_type": "display_data"
    },
    {
     "name": "stdout",
     "output_type": "stream",
     "text": [
      "\n",
      "Loaded model from epoch 18, step 37,723\n"
     ]
    },
    {
     "data": {
      "application/vnd.jupyter.widget-view+json": {
       "model_id": "fa9480e811ef420eaa223c496b07d5a4",
       "version_major": 2,
       "version_minor": 0
      },
      "text/plain": [
       "HBox(children=(IntProgress(value=0, max=233), HTML(value='')))"
      ]
     },
     "metadata": {},
     "output_type": "display_data"
    },
    {
     "name": "stdout",
     "output_type": "stream",
     "text": [
      "\n",
      "Saved predictions to 05_28_se101.h5\n",
      "Loaded model from epoch 27, step 43,290\n"
     ]
    },
    {
     "data": {
      "application/vnd.jupyter.widget-view+json": {
       "model_id": "23a51a1e1a9b461bbb82c8cb90cf53cc",
       "version_major": 2,
       "version_minor": 0
      },
      "text/plain": [
       "HBox(children=(IntProgress(value=0, max=233), HTML(value='')))"
      ]
     },
     "metadata": {},
     "output_type": "display_data"
    },
    {
     "name": "stdout",
     "output_type": "stream",
     "text": [
      "\n",
      "Loaded model from epoch 24, step 51,037\n"
     ]
    },
    {
     "data": {
      "application/vnd.jupyter.widget-view+json": {
       "model_id": "aa8ce37dd5254ba3904f5d4ca1c4b140",
       "version_major": 2,
       "version_minor": 0
      },
      "text/plain": [
       "HBox(children=(IntProgress(value=0, max=233), HTML(value='')))"
      ]
     },
     "metadata": {},
     "output_type": "display_data"
    },
    {
     "name": "stdout",
     "output_type": "stream",
     "text": [
      "\n",
      "Loaded model from epoch 28, step 60,360\n"
     ]
    },
    {
     "data": {
      "application/vnd.jupyter.widget-view+json": {
       "model_id": "0a3934739e314591874d65f822a8d13c",
       "version_major": 2,
       "version_minor": 0
      },
      "text/plain": [
       "HBox(children=(IntProgress(value=0, max=233), HTML(value='')))"
      ]
     },
     "metadata": {},
     "output_type": "display_data"
    },
    {
     "name": "stdout",
     "output_type": "stream",
     "text": [
      "\n",
      "Loaded model from epoch 30, step 64,351\n"
     ]
    },
    {
     "data": {
      "application/vnd.jupyter.widget-view+json": {
       "model_id": "b5015ee9d6454dc6bebff7dbb2934eb3",
       "version_major": 2,
       "version_minor": 0
      },
      "text/plain": [
       "HBox(children=(IntProgress(value=0, max=233), HTML(value='')))"
      ]
     },
     "metadata": {},
     "output_type": "display_data"
    },
    {
     "name": "stdout",
     "output_type": "stream",
     "text": [
      "\n",
      "Loaded model from epoch 28, step 59,913\n"
     ]
    },
    {
     "data": {
      "application/vnd.jupyter.widget-view+json": {
       "model_id": "63b04635e0f34a6baa80022a83b8f0e7",
       "version_major": 2,
       "version_minor": 0
      },
      "text/plain": [
       "HBox(children=(IntProgress(value=0, max=233), HTML(value='')))"
      ]
     },
     "metadata": {},
     "output_type": "display_data"
    },
    {
     "name": "stdout",
     "output_type": "stream",
     "text": [
      "\n",
      "Saved predictions to 05_30_inres2.h5\n"
     ]
    }
   ],
   "source": [
    "import gc\n",
    "\n",
    "model = se_resnext101_32x4d(pretrained=None)\n",
    "model = create_model(model)\n",
    "dfs = []\n",
    "for i in range(10):\n",
    "    df = test(model, loader, Path(f'../input/05-28-results/05_28_results/05_28_results/model_05_28_se101_{i+1}/'), multi=True)\n",
    "    gc.collect()\n",
    "    dfs.append(df)\n",
    "df = pd.concat(dfs)\n",
    "df = mean_df(df)\n",
    "out_path = '05_28_se101.h5'\n",
    "df.to_hdf(out_path, 'prob', index_label='id')\n",
    "print(f'Saved predictions to {out_path}')\n",
    "\n",
    "dfs = []\n",
    "model = inceptionresnetv2(pretrained=False)\n",
    "model = create_model(model)\n",
    "for i in range(5,10):\n",
    "    df = test(model, loader, Path(f'../input/05-30-results/05_30_results/05_30_results/model_05_30_inres2_{i+1}/'), multi=True)\n",
    "    gc.collect()\n",
    "    dfs.append(df)\n",
    "df = pd.concat(dfs)\n",
    "df = mean_df(df)\n",
    "out_path = '05_30_inres2.h5'\n",
    "df.to_hdf(out_path, 'prob', index_label='id')\n",
    "print(f'Saved predictions to {out_path}')\n"
   ]
  },
  {
   "cell_type": "code",
   "execution_count": 12,
   "metadata": {},
   "outputs": [
    {
     "name": "stdout",
     "output_type": "stream",
     "text": [
      "Loaded model from epoch 13, step 39,948\n"
     ]
    },
    {
     "data": {
      "application/vnd.jupyter.widget-view+json": {
       "model_id": "0750d5d307bd49b895da73a5d03c8496",
       "version_major": 2,
       "version_minor": 0
      },
      "text/plain": [
       "HBox(children=(IntProgress(value=0, max=233), HTML(value='')))"
      ]
     },
     "metadata": {},
     "output_type": "display_data"
    },
    {
     "name": "stdout",
     "output_type": "stream",
     "text": [
      "\n",
      "Loaded model from epoch 15, step 46,606\n"
     ]
    },
    {
     "data": {
      "application/vnd.jupyter.widget-view+json": {
       "model_id": "a0a7b6ce801441ee848be66b403194cc",
       "version_major": 2,
       "version_minor": 0
      },
      "text/plain": [
       "HBox(children=(IntProgress(value=0, max=233), HTML(value='')))"
      ]
     },
     "metadata": {},
     "output_type": "display_data"
    },
    {
     "name": "stdout",
     "output_type": "stream",
     "text": [
      "\n",
      "Loaded model from epoch 16, step 49,920\n"
     ]
    },
    {
     "data": {
      "application/vnd.jupyter.widget-view+json": {
       "model_id": "1f31bb6ad3184c22aa715868d312540f",
       "version_major": 2,
       "version_minor": 0
      },
      "text/plain": [
       "HBox(children=(IntProgress(value=0, max=233), HTML(value='')))"
      ]
     },
     "metadata": {},
     "output_type": "display_data"
    },
    {
     "name": "stdout",
     "output_type": "stream",
     "text": [
      "\n",
      "Loaded model from epoch 18, step 56,593\n"
     ]
    },
    {
     "data": {
      "application/vnd.jupyter.widget-view+json": {
       "model_id": "6a71c617d15f4be7b634f1f434362ef4",
       "version_major": 2,
       "version_minor": 0
      },
      "text/plain": [
       "HBox(children=(IntProgress(value=0, max=233), HTML(value='')))"
      ]
     },
     "metadata": {},
     "output_type": "display_data"
    },
    {
     "name": "stdout",
     "output_type": "stream",
     "text": [
      "\n",
      "Loaded model from epoch 15, step 46,592\n"
     ]
    },
    {
     "data": {
      "application/vnd.jupyter.widget-view+json": {
       "model_id": "edfef22095ee45e3b7406dd683a59750",
       "version_major": 2,
       "version_minor": 0
      },
      "text/plain": [
       "HBox(children=(IntProgress(value=0, max=233), HTML(value='')))"
      ]
     },
     "metadata": {},
     "output_type": "display_data"
    },
    {
     "name": "stdout",
     "output_type": "stream",
     "text": [
      "\n",
      "Saved predictions to 06_01_se154.h5\n"
     ]
    }
   ],
   "source": [
    "dfs = []\n",
    "model = senet154(pretrained=None)\n",
    "model = create_model(model)\n",
    "for i in range(5):\n",
    "    df = test(model, loader, Path(f'../input/06-01-results/06_01_results/06_01_results/model_06_01_se154_{i+1}/'), multi=True)\n",
    "    gc.collect()\n",
    "    dfs.append(df)\n",
    "df = pd.concat(dfs)\n",
    "df = mean_df(df)\n",
    "out_path = '06_01_se154.h5'\n",
    "df.to_hdf(out_path, 'prob', index_label='id')\n",
    "print(f'Saved predictions to {out_path}')"
   ]
  },
  {
   "cell_type": "code",
   "execution_count": 13,
   "metadata": {},
   "outputs": [
    {
     "name": "stdout",
     "output_type": "stream",
     "text": [
      "Loaded model from epoch 17, step 71,143\n"
     ]
    },
    {
     "data": {
      "application/vnd.jupyter.widget-view+json": {
       "model_id": "6a884ad2ccc44d6fa366ec22694e12ec",
       "version_major": 2,
       "version_minor": 0
      },
      "text/plain": [
       "HBox(children=(IntProgress(value=0, max=233), HTML(value='')))"
      ]
     },
     "metadata": {},
     "output_type": "display_data"
    },
    {
     "name": "stdout",
     "output_type": "stream",
     "text": [
      "\n",
      "Loaded model from epoch 18, step 75,616\n"
     ]
    },
    {
     "data": {
      "application/vnd.jupyter.widget-view+json": {
       "model_id": "073dc6eb572046638d8ed71efdc2e8d4",
       "version_major": 2,
       "version_minor": 0
      },
      "text/plain": [
       "HBox(children=(IntProgress(value=0, max=233), HTML(value='')))"
      ]
     },
     "metadata": {},
     "output_type": "display_data"
    },
    {
     "name": "stdout",
     "output_type": "stream",
     "text": [
      "\n",
      "Loaded model from epoch 20, step 84,303\n"
     ]
    },
    {
     "data": {
      "application/vnd.jupyter.widget-view+json": {
       "model_id": "9758ad8361e045a4864e8f9de9be0d88",
       "version_major": 2,
       "version_minor": 0
      },
      "text/plain": [
       "HBox(children=(IntProgress(value=0, max=233), HTML(value='')))"
      ]
     },
     "metadata": {},
     "output_type": "display_data"
    },
    {
     "name": "stdout",
     "output_type": "stream",
     "text": [
      "\n",
      "Loaded model from epoch 19, step 79,902\n"
     ]
    },
    {
     "data": {
      "application/vnd.jupyter.widget-view+json": {
       "model_id": "6cd00bb22f534683b383abc67aa70234",
       "version_major": 2,
       "version_minor": 0
      },
      "text/plain": [
       "HBox(children=(IntProgress(value=0, max=233), HTML(value='')))"
      ]
     },
     "metadata": {},
     "output_type": "display_data"
    },
    {
     "name": "stdout",
     "output_type": "stream",
     "text": [
      "\n",
      "Loaded model from epoch 28, step 119,826\n"
     ]
    },
    {
     "data": {
      "application/vnd.jupyter.widget-view+json": {
       "model_id": "da96955830d547c38be51ed4ebfc8343",
       "version_major": 2,
       "version_minor": 0
      },
      "text/plain": [
       "HBox(children=(IntProgress(value=0, max=233), HTML(value='')))"
      ]
     },
     "metadata": {},
     "output_type": "display_data"
    },
    {
     "name": "stdout",
     "output_type": "stream",
     "text": [
      "\n",
      "Saved predictions to 06_02_pnas.h5\n"
     ]
    }
   ],
   "source": [
    "dfs = []\n",
    "model = pnasnet5large(pretrained=False)\n",
    "model = create_model(model)\n",
    "for i in range(5):\n",
    "    df = test(model, loader, Path(f'../input/06-02-results/06_02_results/06_02_results/model_06_02_pnas_{i+1}/'), multi=True)\n",
    "    gc.collect()\n",
    "    dfs.append(df)\n",
    "df = pd.concat(dfs)\n",
    "df = mean_df(df)\n",
    "out_path = '06_02_pnas.h5'\n",
    "df.to_hdf(out_path, 'prob', index_label='id')\n",
    "print(f'Saved predictions to {out_path}')"
   ]
  },
  {
   "cell_type": "code",
   "execution_count": 14,
   "metadata": {},
   "outputs": [],
   "source": [
    "dfs = []\n",
    "results =  [f for f in os.listdir('./') if f.endswith('.h5')]\n",
    "\n",
    "for prediction in results:\n",
    "    df = pd.read_hdf(prediction, index_col='id')\n",
    "    df = df.reindex(test_df.id)\n",
    "    dfs.append(df)\n",
    "df = pd.concat(dfs)\n",
    "df = mean_df(df)\n",
    "pred = df.values\n",
    "# def sigmoid(x): \n",
    "#     return 1.0 / (1.0 + np.exp(-x))\n",
    "# pred = sigmoid(pred)\n",
    "df[:] = binarize_prediction(pred, threshold=args['threshold'], max_labels=args['max_labels'])\n",
    "df = df.apply(get_classes, axis=1)\n",
    "df.name = 'attribute_ids'\n",
    "df.to_csv(args['output'], header=True)"
   ]
  },
  {
   "cell_type": "code",
   "execution_count": 15,
   "metadata": {},
   "outputs": [
    {
     "name": "stdout",
     "output_type": "stream",
     "text": [
      "id,attribute_ids\r\n",
      "10023b2cc4ed5f68,195 223 289 343 344 369 587 766 1059\r\n",
      "100fbe75ed8fd887,93 231 1039\r\n",
      "101b627524a04f19,79 784 1037\r\n",
      "10234480c41284c6,13 147 725 738 776 813 830 1046\r\n",
      "1023b0e2636dcea8,147 322 584 813 954 1046 1092\r\n",
      "1039cd6cf85845c,13 405 903 1092\r\n",
      "103a5b3f83fbe88,194 671 813 1020 1057 1092\r\n",
      "10413aaae8d6a9a2,147 616 698 813 1046 1092\r\n",
      "10423822b93a65ab,51 121 483 738 813 1039\r\n"
     ]
    }
   ],
   "source": [
    "!head submission.csv"
   ]
  },
  {
   "cell_type": "code",
   "execution_count": 16,
   "metadata": {},
   "outputs": [],
   "source": []
  }
 ],
 "metadata": {
  "kernelspec": {
   "display_name": "Python 3",
   "language": "python",
   "name": "python3"
  },
  "language_info": {
   "codemirror_mode": {
    "name": "ipython",
    "version": 3
   },
   "file_extension": ".py",
   "mimetype": "text/x-python",
   "name": "python",
   "nbconvert_exporter": "python",
   "pygments_lexer": "ipython3",
   "version": "3.6.3"
  }
 },
 "nbformat": 4,
 "nbformat_minor": 1
}
